{
 "cells": [
  {
   "cell_type": "code",
   "execution_count": 2,
   "id": "93d82f09",
   "metadata": {},
   "outputs": [],
   "source": [
    "import netket as nk\n",
    "\n",
    "import sys\n",
    "sys.path.append('/Users/samizweidler/Documents/ETH/4_6_Master/6.Jahr/Master_Thesis/AFM_VMC')\n",
    "\n",
    "\n",
    "import jax.numpy as jnp\n",
    "import matplotlib.pyplot as plt\n",
    "\n",
    "import flax.linen as nn\n",
    "from typing import Any\n",
    "from netket.jax import logsumexp_cplx\n",
    "\n",
    "from Afm_Model_functions import *\n",
    "from vmc_2spins_sampler import *\n",
    "from Spin_Observables import *\n",
    "import pickle\n",
    "import ViT_2d_Vers5 as vit\n",
    "from data_extracter import *\n",
    "import os\n",
    "from jax import vmap"
   ]
  },
  {
   "cell_type": "code",
   "execution_count": 27,
   "id": "5643eb45",
   "metadata": {},
   "outputs": [],
   "source": [
    "L = 12\n",
    "Tri12 = nk.graph.Triangular(extent = [L,L], pbc = True)\n",
    "\n",
    "pHa = {\n",
    "    'L': L,\n",
    "    'J1' : 1.0,\n",
    "    'J2' : 0.4375,\n",
    "    'Dxy': 0.75,\n",
    "    'd' : 0.1,\n",
    "    'dprime' : 0.5,\n",
    "    'sublattice': [0,1,2,3,4,5,6,7,8,9,\n",
    "                   20,21,22,23,24,25,26,27,28,29,\n",
    "                   40,41,42,43,44,45,46,47,48,49,\n",
    "                   60,61,62,63,64,65,66,67,68,69,\n",
    "                   80,81,82,83,84,85,86,87,88,89]\n",
    "}\n",
    "\n",
    "Ha12, hi12 = H_afmJ123(L=pHa['L'], J1=pHa['J1'], J2=pHa['J2'], J3=pHa['J2'], Dxy=pHa['Dxy'], d=pHa['d'], dprime=pHa['dprime'], return_space=True,\n",
    "                        parity=0., sublattice = pHa['sublattice'], make_rotation=True, exchange_XY=True)\n",
    "\n",
    "pHa['sublattice'] = [0,1,2,3,4,5,6,7,8,9,10,11,12,13,14,\n",
    "                   28,29,30,31,32,33,34,35,36,37,38,39,40,41,\n",
    "                   56,57,58,59,60,61,62,63,64,65,66,67,68,69,\n",
    "                   84,85,86,87,88,89,90,91,92,93,94,95,96,97,\n",
    "                   112,113,114,115,116,117,118,119,120,121,122,123,124,125,\n",
    "                   140,141,142,143,144,145,146,147,148,149,150,151,152,153,\n",
    "                   168,169,170,171,172,173,174,175,176,177,178,179,180,181]\n",
    "\n",
    "\n",
    "Ha14, hi14 = H_afmJ123(L=14, J1=pHa['J1'], J2=pHa['J2'], J3=pHa['J2'], Dxy=pHa['Dxy'], d=pHa['d'], dprime=pHa['dprime'], return_space=True,\n",
    "                        parity=0., sublattice = pHa['sublattice'], make_rotation=True, exchange_XY=True)\n",
    "Tri14 = nk.graph.Triangular(extent = [14,14], pbc = True)\n",
    "\n",
    "XX12 = Exchange_OP(hi12, Tri12).to_jax_operator()\n",
    "sa_Ha12 = nk.sampler.MetropolisHamiltonian(hilbert=hi12, hamiltonian=XX12, n_chains=32, sweep_size = 3* hi12.size)\n",
    "sa_ex12 = nk.sampler.MetropolisExchange(hilbert=hi12, graph=Tri12, n_chains=32, sweep_size=3*hi12.size)\n",
    "rules5050_12 = nk.sampler.rules.MultipleRules(rules = [sa_Ha12.rule, sa_ex12.rule], probabilities = [0.5, 0.5])\n",
    "sa_HaEx_L12 = nk.sampler.MetropolisSampler(hi12, rules5050_12, n_chains=64, sweep_size=3*hi12.size)\n",
    "sa_HaEx_L12 = nk.sampler.MetropolisSampler(hi12, rules5050_12, n_chains=64, sweep_size=3*hi12.size)\n",
    "\n",
    "XX14 = Exchange_OP(hi14, Tri14).to_jax_operator()\n",
    "sa_Ha14 = nk.sampler.MetropolisHamiltonian(hilbert=hi14, hamiltonian=XX14, n_chains=32, sweep_size = 3* hi14.size)\n",
    "sa_ex14 = nk.sampler.MetropolisExchange(hilbert=hi14, graph=Tri14, n_chains=32, sweep_size=3*hi14.size)\n",
    "rules5050_14 = nk.sampler.rules.MultipleRules(rules = [sa_Ha14.rule, sa_ex14.rule], probabilities = [0.5, 0.5])\n",
    "sa_HaEx_L14 = nk.sampler.MetropolisSampler(hi14, rules5050_14, n_chains=64, sweep_size=3*hi14.size)\n",
    "sa_HaEx_L14 = nk.sampler.MetropolisSampler(hi14, rules5050_14, n_chains=64, sweep_size=3*hi14.size)\n"
   ]
  },
  {
   "cell_type": "code",
   "execution_count": 29,
   "id": "335875c4",
   "metadata": {},
   "outputs": [],
   "source": [
    "def Sz_tot(graph, hilbert):\n",
    "    \"\"\"\n",
    "    input:\n",
    "    graph: (netket.graph) the graph of the system\n",
    "    hilbert: (netket.hilbert) the hilbert space of the system\n",
    "\n",
    "    return:\n",
    "    the total Sz operator\n",
    "    \"\"\"\n",
    "    Sz = 0.0\n",
    "    Ntot = graph.n_nodes\n",
    "    for i in range(Ntot):\n",
    "        Sz += sigmaz(hilbert, i)\n",
    "    return Sz/Ntot\n",
    "\n",
    "Mtot12 = Sz_tot(nk.graph.Triangular(extent=[L,L], pbc=True), hi12)\n",
    "Mtot14 = Sz_tot(nk.graph.Triangular(extent=[14,14], pbc=True), hi14)"
   ]
  },
  {
   "cell_type": "code",
   "execution_count": 30,
   "id": "2eece800",
   "metadata": {},
   "outputs": [],
   "source": [
    "pVit = {\n",
    "    'd': 32,\n",
    "    'h': 8,\n",
    "    'nl': 1,\n",
    "    'Dtype': jnp.float64,\n",
    "    'hidden_density': 1,\n",
    "    'L': L,\n",
    "    'Cx': 4,\n",
    "    'Cy': 4,\n",
    "    'patch_arr': HashableArray(jnp.array([[0,1,2,3,12,13,14,15,24,25,26,27,36,37,38,39],\n",
    "                                          [4,5,6,7,16,17,18,19,28,29,30,31,40,41,42,43],\n",
    "                                          [8,9,10,11,20,21,22,23,32,33,34,35,44,45,46,47],\n",
    "                                          [48,49,50,51,60,61,62,63,72,73,74,75,84,85,86,87],\n",
    "                                          [52,53,54,55,64,65,66,67,76,77,78,79,88,89,90,91],\n",
    "                                          [56,57,58,59,68,69,70,71,80,81,82,83,92,93,94,95],\n",
    "                                          [96,97,98,99,108,109,110,111,120,121,122,123,132,133,134,135],\n",
    "                                          [100,101,102,103,112,113,114,115,124,125,126,127,136,137,138,139],\n",
    "                                          [104,105,106,107,116,117,118,119,128,129,130,131,140,141,142,143],\n",
    "                                         ]))\n",
    "    }\n",
    "\n",
    "patch_transl_12 = HashableArray(vit.get_translation(12, 12, 12**2, pVit['Cx'], pVit['Cy']))\n",
    "\n",
    "m_Vit_12 = vit.Vit_2d_full_symm(patch_arr=HashableArray(pVit['patch_arr']), embed_dim=pVit['d'], num_heads=pVit['h'], nl=pVit['nl'],\n",
    "                                Dtype=pVit['Dtype'], L=pVit['L'], Cx=pVit['Cx'], Cy=pVit['Cy'], hidden_density=pVit['hidden_density'],\n",
    "                                recover_full_transl_symm=True, translations = patch_transl_12, recover_spin_flip_symm=True)\n",
    "\n",
    "\n",
    "pVit['patch_arr'] = HashableArray(jnp.array([[0,1,14,15,28,29,42,43,56,57,70,71,84,85], [98,99,112,113,126,127,140,141,154,155,168,169,182,183],\n",
    "                                          [2,3,16,17,30,31,44,45,58,59,72,73,86,87], [100,101,114,115,128,129,142,143,156,157,170,171,184,185],\n",
    "                                          [4,5,18,19,32,33,46,47,60,61,74,75,88,89], [102,103,116,117,130,131,144,145,158,159,172,173,186,187],\n",
    "                                          [6,7,20,21,34,35,48,49,62,63,76,77,90,91], [104,105,118,119,132,133,146,147,160,161,174,175,188,189],\n",
    "                                          [8,9,22,23,36,37,50,51,64,65,78,79,92,93], [106,107,120,121,134,135,148,149,162,163,176,177,190,191],\n",
    "                                          [10,11,24,25,38,39,52,53,66,67,80,81,94,95], [108,109,122,123,136,137,150,151,164,165,178,179,192,193],\n",
    "                                          [12,13,26,27,40,41,54,55,68,69,82,83,96,97], [110,111,124,125,138,139,152,153,166,167,180,181,194,195],\n",
    "                                         ]))\n",
    "\n",
    "patch_transl_14 = HashableArray(vit.get_translation(14, 14, 14**2, 7, 2))\n",
    "m_Vit_14 = vit.Vit_2d_full_symm(patch_arr=HashableArray(pVit['patch_arr']), embed_dim=pVit['d'], num_heads=pVit['h'], nl=pVit['nl'],\n",
    "                                Dtype=pVit['Dtype'], L=14, Cx=7, Cy=2, hidden_density=pVit['hidden_density'],\n",
    "                                recover_full_transl_symm=True, translations = patch_transl_14, recover_spin_flip_symm=True)\n",
    "\n",
    "\n",
    "\n"
   ]
  },
  {
   "cell_type": "code",
   "execution_count": 32,
   "id": "f681f95d",
   "metadata": {},
   "outputs": [],
   "source": [
    "vs_vit_44 = nk.vqs.MCState(sampler=sa_HaEx_L12, model=m_Vit_12, n_samples=2**12, n_discard_per_chain=16)\n",
    "vs_vit_72 = nk.vqs.MCState(sampler=sa_HaEx_L14, model=m_Vit_14, n_samples=2**12, n_discard_per_chain=16)"
   ]
  },
  {
   "cell_type": "code",
   "execution_count": 35,
   "id": "02473cd1",
   "metadata": {},
   "outputs": [],
   "source": [
    "with open('12x12/patching_xy44_signstructure/Log_Files/log_vit_sampler_HaEx_5050_transflip.pickle', 'rb') as f:\n",
    "    vs_vit_44.variables = pickle.load(f)\n",
    "\n",
    "with open('14x14/patching_xy72_signstructure/Log_Files/log_vit_sampler_HaEx_5050_transflip.pickle', 'rb') as f:\n",
    "    vs_vit_72.variables = pickle.load(f)\n"
   ]
  },
  {
   "cell_type": "markdown",
   "id": "10924547",
   "metadata": {},
   "source": [
    "### Plot Energy and Vscore for rbm and vit"
   ]
  },
  {
   "cell_type": "markdown",
   "id": "801432e3",
   "metadata": {},
   "source": [
    "### Compute expected magnetization and energy as well as spin spin correlation as well as spin structure factor"
   ]
  },
  {
   "cell_type": "code",
   "execution_count": null,
   "id": "08d327ec",
   "metadata": {},
   "outputs": [],
   "source": [
    "print(vs_vit.expect(Ha), vs_rbm1_SS.expect(Ha), vs_rbm2_SS.expect(Ha))"
   ]
  },
  {
   "cell_type": "code",
   "execution_count": null,
   "id": "d9c22a23",
   "metadata": {},
   "outputs": [],
   "source": [
    "print(vs_vit.expect(Mtot), vs_rbm1_SS.expect(Mtot), vs_rbm2_SS.expect(Mtot))"
   ]
  },
  {
   "cell_type": "code",
   "execution_count": null,
   "id": "81b04328",
   "metadata": {},
   "outputs": [],
   "source": [
    "SpinSpin_Corrs_12 = {}\n",
    "SpinSpin_Corrs_14 = {}\n",
    "\n",
    "def compute_spin_spin_corr(vs, label, dicti, hilbert, make_rotate=False, sublattice=None,):\n",
    "    values = []\n",
    "    for j in range(1, hilbert.size):\n",
    "        op = SpinSpin(0, j, hilbert, make_rotation=make_rotate, sublattice=sublattice) / 3\n",
    "        values.append(vs.expect(op).mean)\n",
    "    dicti[label] = values\n",
    "\n",
    "compute_spin_spin_corr(vs_vit_44, 'Vit_44', SpinSpin_Corrs_12, hi12, make_rotation=True, sublattice=pHa['sublattice'])\n",
    "compute_spin_spin_corr(vs_vit_72, 'Vit_72', SpinSpin_Corrs_14, hi14, make_rotation=True, sublattice=pHa['sublattice'])\n"
   ]
  },
  {
   "cell_type": "code",
   "execution_count": null,
   "id": "8a05e6fc",
   "metadata": {},
   "outputs": [],
   "source": [
    "plt.figure()\n",
    "plt.title('Spin-spin correlation for different models')\n",
    "plt.ylabel(r'$\\langle \\hat{{S}}_0 \\hat{S}_j \\rangle$', fontsize=12)\n",
    "plt.xlabel('node j')\n",
    "for key in SpinSpin_Corrs_12.keys():\n",
    "    plt.plot(SpinSpin_Corrs_12[key], marker='.', linestyle='', label=key)\n",
    "plt.legend(loc='upper center', bbox_to_anchor=(0.5, -0.1), ncol=3)\n",
    "plt.show()"
   ]
  },
  {
   "cell_type": "code",
   "execution_count": null,
   "id": "51cbc83c",
   "metadata": {},
   "outputs": [],
   "source": [
    "plt.figure()\n",
    "plt.title('Spin-spin correlation for different models')\n",
    "plt.ylabel(r'$\\langle \\hat{{S}}_0 \\hat{S}_j \\rangle$', fontsize=12)\n",
    "plt.xlabel('node j')\n",
    "for key in SpinSpin_Corrs_14.keys():\n",
    "    plt.plot(SpinSpin_Corrs_14[key], marker='.', linestyle='', label=key)\n",
    "plt.legend(loc='upper center', bbox_to_anchor=(0.5, -0.1), ncol=3)\n",
    "plt.show()"
   ]
  },
  {
   "cell_type": "markdown",
   "id": "890c2ad3",
   "metadata": {},
   "source": [
    "## Structure Factor for L=12"
   ]
  },
  {
   "cell_type": "code",
   "execution_count": null,
   "id": "e12f2c6e",
   "metadata": {},
   "outputs": [],
   "source": [
    "pi = np.pi\n",
    "nodes = [\n",
    "    (-4*pi/3, 0),  # Leftmost node\n",
    "    (-2*pi/3, -2*pi/np.sqrt(3)),  # Bottom left\n",
    "    (2*pi/3, -2*pi/np.sqrt(3)),  # Bottom right\n",
    "    (4*pi/3, 0),  # Rightmost node\n",
    "    (2*pi/3, 2*pi/np.sqrt(3)),  # Top right\n",
    "    (-2*pi/3, 2*pi/np.sqrt(3)),  # Top left\n",
    "    (-4*pi/3, 0)  # Close the hexagon by repeating the first node\n",
    "]\n",
    "\n",
    "x_coords, y_coords = zip(*nodes)"
   ]
  },
  {
   "cell_type": "code",
   "execution_count": null,
   "id": "5296f93d",
   "metadata": {},
   "outputs": [],
   "source": [
    "ks12 = FourierPoints_In_BrioullinZone(12, 100)"
   ]
  },
  {
   "cell_type": "code",
   "execution_count": null,
   "id": "67d22966",
   "metadata": {},
   "outputs": [],
   "source": [
    "ds = Create_Differences(TriGraph)\n",
    "sss, ss_err = Create_SpinSpin_Vec(vs_vit,hi2d, TriGraph, make_rotation=True, sublattice=pHa['sublattice'], get_error=True)\n",
    "# FourierPoints_In_BrioullinZone\n",
    "Sk_vit52, Sk_errs = vmap(Single_Struc_Fac, in_axes=(0, None, None, None, None))(((ks)), ds, sss, hi2d.size, ss_err)\n"
   ]
  },
  {
   "cell_type": "code",
   "execution_count": null,
   "id": "5a02d2dd",
   "metadata": {},
   "outputs": [],
   "source": [
    "thickness =  24000 / L**2 \n",
    "plt.plot(x_coords, y_coords, linestyle='-', color='black', linewidth=2, marker='')\n",
    "plt.scatter(ks[:,0], ks[:,1], c=Sk_vit52.real, cmap='plasma', s=thickness, marker='h')\n",
    "# plt.scatter(kx,ky, c=Sk_rbm1.real, cmap='plasma', s=20, marker='o')\n",
    "ticks = [-np.pi, 0, np.pi]\n",
    "tick_labels = [r'$-\\pi$', r'$0$', r'$\\pi$']\n",
    "plt.xticks(ticks, tick_labels)\n",
    "plt.yticks(ticks, tick_labels)\n",
    "plt.xlabel(r'$k_x$')\n",
    "plt.ylabel(r'$k_y$')\n",
    "plt.colorbar()\n",
    "plt.axis('equal')\n",
    "# plt.ylim(-np.pi, np.pi)\n",
    "plt.xlim(-np.pi, np.pi)\n",
    "\n",
    "plt.show()\n"
   ]
  },
  {
   "cell_type": "code",
   "execution_count": null,
   "id": "84b48125",
   "metadata": {},
   "outputs": [],
   "source": []
  },
  {
   "cell_type": "markdown",
   "id": "4cc50c70",
   "metadata": {},
   "source": [
    "## Structure Factor for L=14"
   ]
  },
  {
   "cell_type": "code",
   "execution_count": null,
   "id": "ec3ae3ca",
   "metadata": {},
   "outputs": [],
   "source": [
    "ks14 = FourierPoints_In_BrioullinZone(14, 100)"
   ]
  },
  {
   "cell_type": "code",
   "execution_count": null,
   "id": "0790c247",
   "metadata": {},
   "outputs": [],
   "source": [
    "ds = Create_Differences(TriGraph)\n",
    "sss, ss_err = Create_SpinSpin_Vec(vs_vit,hi2d, TriGraph, make_rotation=True, sublattice=pHa['sublattice'], get_error=True)\n",
    "# FourierPoints_In_BrioullinZone\n",
    "Sk_vit52, Sk_errs = vmap(Single_Struc_Fac, in_axes=(0, None, None, None, None))(((ks)), ds, sss, hi2d.size, ss_err)"
   ]
  }
 ],
 "metadata": {
  "kernelspec": {
   "display_name": "MasterCalcs",
   "language": "python",
   "name": "python3"
  },
  "language_info": {
   "codemirror_mode": {
    "name": "ipython",
    "version": 3
   },
   "file_extension": ".py",
   "mimetype": "text/x-python",
   "name": "python",
   "nbconvert_exporter": "python",
   "pygments_lexer": "ipython3",
   "version": "3.12.8"
  }
 },
 "nbformat": 4,
 "nbformat_minor": 5
}
