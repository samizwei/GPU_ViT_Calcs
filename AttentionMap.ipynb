{
 "cells": [
  {
   "cell_type": "code",
   "execution_count": 1,
   "metadata": {},
   "outputs": [],
   "source": [
    "import os\n",
    "os.environ[\"CUDA_VISIBLE_DEVICES\"] = \"6\"\n",
    "\n",
    "import netket as nk\n",
    "import numpy as np\n",
    "import jax.numpy as jnp\n",
    "\n",
    "from netket.operator.spin import sigmax, sigmay, sigmaz\n",
    "\n",
    "import sys \n",
    "sys.path.append('/scratch/samiz/GPU_ViT_Calcs/models')\n",
    "sys.path.append('/scratch/samiz/GPU_ViT_Calcs/StructureFactor_Calcs')\n",
    "from Afm_Model_functions import *\n",
    "from vmc_2spins_sampler import Exchange_OP\n",
    "import  ViT_2d_Vers3_XavierUniform as vitX \n",
    "\n",
    "import pickle\n",
    "\n",
    "import jax\n",
    "import matplotlib.pyplot as plt\n",
    "\n",
    "\n",
    "# from Structure_Factor import *\n",
    "\n"
   ]
  },
  {
   "cell_type": "markdown",
   "metadata": {},
   "source": [
    "the goal of this notebook is to try to create the attention maps to see if we can read out some correaltions from there!!"
   ]
  },
  {
   "cell_type": "code",
   "execution_count": 3,
   "metadata": {},
   "outputs": [
    {
     "name": "stdout",
     "output_type": "stream",
     "text": [
      "the Hilbert space is:  Spin(s=1/2, N=36, ordering=inverted, <vmc_2spins_sampler.Mtot_Parity_Constraint object at 0x7f62f86e2990>)\n"
     ]
    }
   ],
   "source": [
    "from netket.utils import HashableArray\n",
    "\n",
    "L = 6\n",
    "\n",
    "# hi2d = nk.hilbert.Spin(s=0.5, N=L**2, constraint=Mtot_Parity_Constraint(parity=0))\n",
    "TriGraph36 = nk.graph.Triangular(extent = [L,L], pbc = True)\n",
    "\n",
    "pHa = {\n",
    "    'L': L,\n",
    "    'J1' : 1.0,\n",
    "    'J2' : 0.4375,\n",
    "    'Dxy': 0.75,\n",
    "    'd' : 0.1,\n",
    "    'dprime' : 0.5,\n",
    "    'sublattice': [0,1,2,3,8,9,10,11]\n",
    "}\n",
    "\n",
    "Ha36, hi2d36 = H_afmJ123(L=pHa['L'], J1=pHa['J1'], J2=pHa['J2'], J3=pHa['J2'], Dxy=pHa['Dxy'], d=pHa['d'], dprime=pHa['dprime'], return_space=True, parity=0., sublattice = None, make_rotation=False, exchange_XY=False)\n",
    "print('the Hilbert space is: ', hi2d36)\n",
    "XX36= Exchange_OP(hi2d36, TriGraph36)\n",
    "\n",
    "sa_Ha36 = nk.sampler.MetropolisHamiltonian(hilbert=hi2d36, hamiltonian=XX36, n_chains=32, sweep_size = 3* hi2d36.size)\n",
    "sa_ex36 = nk.sampler.MetropolisExchange(hilbert=hi2d36, graph=TriGraph36, n_chains=32, sweep_size=3*hi2d36.size)\n",
    "rules5050_36 = nk.sampler.rules.MultipleRules(rules = [sa_Ha36.rule, sa_ex36.rule], probabilities = [0.5, 0.5])\n",
    "\n",
    "sa_HaEx5050_36 = nk.sampler.MetropolisSampler(hi2d36, rules5050_36, n_chains=32, sweep_size=3*hi2d36.size)\n",
    "\n",
    "pVit = {\n",
    "    'd': 24,\n",
    "    'h': 6,\n",
    "    'nl': 1,\n",
    "    'Dtype': jnp.float64,\n",
    "    'hidden_density': 1,\n",
    "    'L': L,\n",
    "    'Cx': 2,\n",
    "    'Cy': 2,\n",
    "    'patch_arr': HashableArray(jnp.array([[0,1,6,7], [2,3,8,9], [4,5,10,11],\n",
    "                                           [12,13,18,19], [14,15,20,21], [16,17,22,23],\n",
    "                                             [24,25,30,31], [26,27,32,33], [28,29,34,35]])),\n",
    "}\n",
    "\n",
    "m_Vit = vitX.ViT_2d(patch_arr=HashableArray(pVit['patch_arr']), embed_dim=pVit['d'], num_heads=pVit['h'], nl=pVit['nl'],\n",
    "                                Dtype=pVit['Dtype'], L=pVit['L'], Cx=pVit['Cx'], Cy=pVit['Cy'], hidden_density=pVit['hidden_density'])\n",
    "\n",
    "\n",
    "\n",
    "vs_vit = nk.vqs.MCState(sampler=sa_HaEx5050_36, model=m_Vit, n_samples=2**12, n_discard_per_chain=16)\n",
    "with open('/scratch/samiz/GPU_ViT_Calcs/StructureFactor_Calcs/log_vit_sampler_HaEx_5050.pickle', 'rb') as handle:\n",
    "    params = pickle.load(handle)\n",
    "\n",
    "vs_vit.variables = params\n",
    "\n"
   ]
  },
  {
   "cell_type": "code",
   "execution_count": 4,
   "metadata": {},
   "outputs": [
    {
     "data": {
      "text/plain": [
       "(6, 9)"
      ]
     },
     "execution_count": 4,
     "metadata": {},
     "output_type": "execute_result"
    }
   ],
   "source": [
    "vs_vit.parameters.keys()\n",
    "vs_vit.parameters['ViT_real_0'].keys()\n",
    "vs_vit.parameters['ViT_real_0']['Transformer_Encoder_0'].keys()\n",
    "vs_vit.parameters['ViT_real_0']['Transformer_Encoder_0']['Self_Attention_2d_0'].keys()\n",
    "vs_vit.parameters['ViT_real_0']['Transformer_Encoder_0']['Self_Attention_2d_0']['alpha'].shape"
   ]
  },
  {
   "cell_type": "code",
   "execution_count": 5,
   "metadata": {},
   "outputs": [],
   "source": [
    "alphas = np.abs(vs_vit.parameters['ViT_real_0']['Transformer_Encoder_0']['Self_Attention_2d_0']['alpha'])"
   ]
  },
  {
   "cell_type": "code",
   "execution_count": 6,
   "metadata": {},
   "outputs": [
    {
     "name": "stderr",
     "output_type": "stream",
     "text": [
      "/tmp/ipykernel_3325113/4032990516.py:8: UserWarning: This figure includes Axes that are not compatible with tight_layout, so results might be incorrect.\n",
      "  plt.tight_layout()\n"
     ]
    },
    {
     "data": {
      "image/png": "[encoded data removed]",
      "text/plain": [
       "<Figure size 1800x300 with 7 Axes>"
      ]
     },
     "metadata": {},
     "output_type": "display_data"
    }
   ],
   "source": [
    "fig, axes = plt.subplots(1, 6, figsize=(18, 3))\n",
    "\n",
    "for j in range(6):\n",
    "    axes[j].imshow((alphas[j, :]).reshape(3, 3), cmap='viridis')\n",
    "    axes[j].set_title(f'Plot {j+1}')\n",
    "    axes[j].axis('off')\n",
    "fig.colorbar(axes[0].imshow(alphas[0, :].reshape(3, 3), cmap='viridis'), ax=axes, orientation='horizontal', fraction=0.02, pad=0.5)\n",
    "plt.tight_layout()\n",
    "plt.show()"
   ]
  },
  {
   "cell_type": "code",
   "execution_count": 7,
   "metadata": {},
   "outputs": [
    {
     "data": {
      "text/plain": [
       "<matplotlib.colorbar.Colorbar at 0x7f62d46e4550>"
      ]
     },
     "execution_count": 7,
     "metadata": {},
     "output_type": "execute_result"
    },
    {
     "data": {
      "image/png": "[encoded data removed]",
      "text/plain": [
       "<Figure size 640x480 with 2 Axes>"
      ]
     },
     "metadata": {},
     "output_type": "display_data"
    }
   ],
   "source": [
    "alphas_mean = (jnp.mean((alphas), axis=0))\n",
    "\n",
    "plt.imshow(alphas_mean.reshape(3, 3), cmap='viridis')\n",
    "plt.colorbar()"
   ]
  },
  {
   "cell_type": "markdown",
   "metadata": {},
   "source": [
    "could it be that attention mechanism learns the stripe order?"
   ]
  },
  {
   "cell_type": "code",
   "execution_count": 32,
   "metadata": {},
   "outputs": [
    {
     "data": {
      "text/plain": [
       "Array([[0, 1, 2],\n",
       "       [3, 4, 5],\n",
       "       [6, 7, 8]], dtype=int64)"
      ]
     },
     "execution_count": 32,
     "metadata": {},
     "output_type": "execute_result"
    }
   ],
   "source": [
    "jnp.arange(0,9).reshape(3,3)"
   ]
  },
  {
   "cell_type": "code",
   "execution_count": null,
   "metadata": {},
   "outputs": [],
   "source": []
  },
  {
   "cell_type": "code",
   "execution_count": 69,
   "metadata": {},
   "outputs": [],
   "source": [
    "# pVit2 = {\n",
    "#     'd': 24,\n",
    "#     'h': 6,\n",
    "#     'nl': 2,\n",
    "#     'Dtype': jnp.float64,\n",
    "#     'hidden_density': 1,\n",
    "#     'L': L,\n",
    "#     'Cx': 2,\n",
    "#     'Cy': 2,\n",
    "#     'patch_arr': HashableArray(jnp.array([[0,1,6,7], [2,3,8,9], [4,5,10,11],\n",
    "#                                            [12,13,18,19], [14,15,20,21], [16,17,22,23],\n",
    "#                                              [24,25,30,31], [26,27,32,33], [28,29,34,35]])),\n",
    "# }\n",
    "\n",
    "# m_Vit2 = vitX.ViT_2d(patch_arr=HashableArray(pVit2['patch_arr']), embed_dim=pVit2['d'], num_heads=pVit2['h'], nl=pVit2['nl'],\n",
    "#                                 Dtype=pVit2['Dtype'], L=pVit2['L'], Cx=pVit2['Cx'], Cy=pVit2['Cy'], hidden_density=pVit2['hidden_density'])\n",
    "\n",
    "\n",
    "\n",
    "# vs_vit2= nk.vqs.MCState(sampler=sa_HaEx5050_36, model=m_Vit2, n_samples=2**12, n_discard_per_chain=16)\n"
   ]
  },
  {
   "cell_type": "code",
   "execution_count": 8,
   "metadata": {},
   "outputs": [],
   "source": [
    "alphas_nl2 = []"
   ]
  },
  {
   "cell_type": "code",
   "execution_count": 9,
   "metadata": {},
   "outputs": [],
   "source": [
    "with open('/scratch/samiz/GPU_ViT_Calcs/StructureFactor_Calcs/log_vit_sampler_HaEx_5050_nl2.pickle', 'rb') as handle:\n",
    "    params2 = pickle.load(handle)\n",
    "\n",
    "alphas_nl2.append(params2['params']['ViT_real_0']['Transformer_Encoder_0']['Self_Attention_2d_0']['alpha'])\n",
    "alphas_nl2.append(params2['params']['ViT_real_0']['Transformer_Encoder_1']['Self_Attention_2d_0']['alpha'])\n",
    "\n",
    "alpha_nl2 = jnp.array(alphas_nl2)"
   ]
  },
  {
   "cell_type": "code",
   "execution_count": 10,
   "metadata": {},
   "outputs": [
    {
     "data": {
      "text/plain": [
       "(2, 6, 9)"
      ]
     },
     "execution_count": 10,
     "metadata": {},
     "output_type": "execute_result"
    }
   ],
   "source": [
    "alpha_nl2.shape"
   ]
  },
  {
   "cell_type": "code",
   "execution_count": 11,
   "metadata": {},
   "outputs": [
    {
     "data": {
      "image/png": "[encoded data removed]",
      "text/plain": [
       "<Figure size 1800x600 with 12 Axes>"
      ]
     },
     "metadata": {},
     "output_type": "display_data"
    }
   ],
   "source": [
    "fig, axes = plt.subplots(2, 6, figsize=(18, 6))\n",
    "\n",
    "for i in range(2):\n",
    "    for j in range(6):\n",
    "        axes[i, j].imshow(alpha_nl2[i, j, :].reshape(3, 3), cmap='viridis')\n",
    "        axes[i, j].set_title(f'Plot ({i+1}, {j+1})')\n",
    "        axes[i, j].axis('off')\n",
    "\n",
    "plt.tight_layout()\n",
    "plt.show()"
   ]
  },
  {
   "cell_type": "code",
   "execution_count": 12,
   "metadata": {},
   "outputs": [
    {
     "data": {
      "text/plain": [
       "<matplotlib.colorbar.Colorbar at 0x7f62d45efb90>"
      ]
     },
     "execution_count": 12,
     "metadata": {},
     "output_type": "execute_result"
    },
    {
     "data": {
      "image/png": "[encoded data removed]",
      "text/plain": [
       "<Figure size 640x480 with 2 Axes>"
      ]
     },
     "metadata": {},
     "output_type": "display_data"
    }
   ],
   "source": [
    "a_mean = jnp.mean(np.mean(np.abs(alpha_nl2), axis=1), axis=0)\n",
    "\n",
    "plt.imshow(a_mean.reshape(3, 3), cmap='viridis')\n",
    "plt.colorbar()"
   ]
  },
  {
   "cell_type": "code",
   "execution_count": 13,
   "metadata": {},
   "outputs": [
    {
     "name": "stdout",
     "output_type": "stream",
     "text": [
      "(6, 18)\n"
     ]
    }
   ],
   "source": [
    "with open('/scratch/samiz/GPU_ViT_Calcs/StructureFactor_Calcs/log_vit_sampler_HaEx_3070.pickle', 'rb') as handle:\n",
    "    params3070 = pickle.load(handle)\n",
    "\n",
    "\n",
    "alphas12 = params3070['params']['ViT_real_0']['Transformer_Encoder_0']['Self_Attention_2d_0']['alpha']\n",
    "print(alphas12.shape)"
   ]
  },
  {
   "cell_type": "code",
   "execution_count": 16,
   "metadata": {},
   "outputs": [
    {
     "data": {
      "text/plain": [
       "<matplotlib.image.AxesImage at 0x7f62b4765410>"
      ]
     },
     "execution_count": 16,
     "metadata": {},
     "output_type": "execute_result"
    },
    {
     "data": {
      "image/png": "[encoded data removed]",
      "text/plain": [
       "<Figure size 640x480 with 1 Axes>"
      ]
     },
     "metadata": {},
     "output_type": "display_data"
    }
   ],
   "source": [
    "plt.imshow(jnp.mean(jnp.abs(alphas12), axis=0).reshape(6, 3).T, cmap='viridis')"
   ]
  },
  {
   "cell_type": "code",
   "execution_count": null,
   "metadata": {},
   "outputs": [],
   "source": []
  }
 ],
 "metadata": {
  "kernelspec": {
   "display_name": "venv",
   "language": "python",
   "name": "python3"
  },
  "language_info": {
   "codemirror_mode": {
    "name": "ipython",
    "version": 3
   },
   "file_extension": ".py",
   "mimetype": "text/x-python",
   "name": "python",
   "nbconvert_exporter": "python",
   "pygments_lexer": "ipython3",
   "version": "3.11.2"
  }
 },
 "nbformat": 4,
 "nbformat_minor": 2
}
