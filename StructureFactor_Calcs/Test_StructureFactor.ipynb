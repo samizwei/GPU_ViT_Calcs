{
 "cells": [
  {
   "cell_type": "code",
   "execution_count": 33,
   "metadata": {},
   "outputs": [],
   "source": [
    "import os\n",
    "os.environ[\"CUDA_VISIBLE_DEVICES\"] = \"7\"\n",
    "\n",
    "import netket as nk\n",
    "import numpy as np\n",
    "import jax.numpy as jnp\n",
    "\n",
    "from netket.operator.spin import sigmax, sigmay, sigmaz\n",
    "\n",
    "import sys \n",
    "sys.path.append('/scratch/samiz/GPU_ViT_Calcs/models')\n",
    "\n",
    "from Afm_Model_functions import *\n",
    "from vmc_2spins_sampler import Exchange_OP\n",
    "\n",
    "import pickle\n",
    "\n",
    "import jax\n",
    "import matplotlib.pyplot as plt"
   ]
  },
  {
   "cell_type": "code",
   "execution_count": 11,
   "metadata": {},
   "outputs": [
    {
     "name": "stdout",
     "output_type": "stream",
     "text": [
      "the Hilbert space is:  Spin(s=1/2, N=16, ordering=inverted, <vmc_2spins_sampler.Mtot_Parity_Constraint object at 0x7fc9b03e99d0>)\n"
     ]
    }
   ],
   "source": [
    "L = 4\n",
    "\n",
    "# hi2d = nk.hilbert.Spin(s=0.5, N=L**2, constraint=Mtot_Parity_Constraint(parity=0))\n",
    "TriGraph = nk.graph.Triangular(extent = [L,L], pbc = True)\n",
    "\n",
    "pHa = {\n",
    "    'L': L,\n",
    "    'J1' : 1.0,\n",
    "    'J2' : 0.4375,\n",
    "    'Dxy': 0.75,\n",
    "    'd' : 0.1,\n",
    "    'dprime' : 0.5,\n",
    "    'sublattice': [0,1,2,3,8,9,10,11]\n",
    "}\n",
    "\n",
    "Ha16, hi2d = H_afmJ123(L=pHa['L'], J1=pHa['J1'], J2=pHa['J2'], J3=pHa['J2'], Dxy=pHa['Dxy'], d=pHa['d'], dprime=pHa['dprime'], return_space=True, parity=0., sublattice = None, make_rotation=False, exchange_XY=False)\n",
    "print('the Hilbert space is: ', hi2d)\n",
    "XX = Exchange_OP(hi2d, TriGraph)\n",
    "\n",
    "sa_Ha = nk.sampler.MetropolisHamiltonian(hilbert=hi2d, hamiltonian=XX, n_chains=32, sweep_size = 3* hi2d.size)\n",
    "sa_ex = nk.sampler.MetropolisExchange(hilbert=hi2d, graph=TriGraph, n_chains=32, sweep_size=3*hi2d.size)\n",
    "rules5050 = nk.sampler.rules.MultipleRules(rules = [sa_Ha.rule, sa_ex.rule], probabilities = [0.5, 0.5])\n",
    "\n",
    "sa_HaEx5050 = nk.sampler.MetropolisSampler(hi2d, rules5050, n_chains=32, sweep_size=3*hi2d.size)\n"
   ]
  },
  {
   "cell_type": "code",
   "execution_count": null,
   "metadata": {},
   "outputs": [],
   "source": [
    "def SpinSpin(node_i, node_j, hilbert, make_rotation=False, sublattice=None):\n",
    "    \"\"\"\n",
    "    Computes the spin-spin correlation operator between node_i and node_j using JAX.\n",
    "    \"\"\"\n",
    "    spin = {'x': sigmax, 'y': sigmay, 'z': sigmaz}\n",
    "    \n",
    "    i, j = int(node_i), int(node_j)\n",
    "    \n",
    "    sx_i = spin['x'](hilbert, i)\n",
    "    sx_j = spin['x'](hilbert, j)\n",
    "    sy_i = spin['y'](hilbert, i)\n",
    "    sy_j = spin['y'](hilbert, j)\n",
    "    sz_i = spin['z'](hilbert, i)\n",
    "    sz_j = spin['z'](hilbert, j)\n",
    "    \n",
    "    if make_rotation:\n",
    "        same_sublattice = (i in sublattice and j in sublattice) or (i not in sublattice and j not in sublattice)\n",
    "        sign = 1 if same_sublattice else -1\n",
    "        correlation = sign * (sx_i @ sx_j + sy_i @ sy_j) + sz_i @ sz_j\n",
    "    else:\n",
    "        correlation = sx_i @ sx_j + sy_i @ sy_j + sz_i @ sz_j\n",
    "    \n",
    "    return correlation\n",
    "\n",
    "\n",
    "# jit compatible version of the structure factor for one momentum:\n",
    "\n",
    "def Create_Differences(graph):\n",
    "    \"\"\"\n",
    "    input:\n",
    "    graph: (netket.graph) the graph of the system\n",
    "\n",
    "    return:\n",
    "    the differences between the coordinates of the nodes\n",
    "    \"\"\"\n",
    "    N_tot = graph.n_nodes\n",
    "    differences = []\n",
    "    for i in range(N_tot):\n",
    "        for j in range(N_tot):\n",
    "            differences.append(graph.positions[i] - graph.positions[j])\n",
    "    return jnp.array(differences)\n",
    "\n",
    "\n",
    "def Create_SpinSpin_Vec(wavefunction, hilbert, graph, make_rotation=False, sublattice=None):\n",
    "    \"\"\"\n",
    "    input:\n",
    "    graph: (netket.graph) the graph of the system\n",
    "    make_rotation: (bool) if True, the rotation (marshall sign) of the spins is applied\n",
    "    sublattice: (list) the sublattice on which the spins are to apply the spin\n",
    "\n",
    "    return:\n",
    "    the vector of the spin-spin correlation operators\n",
    "    \"\"\"\n",
    "    N_tot = graph.n_nodes\n",
    "    # hilbert = graph.hilbert\n",
    "    spin_spin_vec = []\n",
    "    for i in range(N_tot):\n",
    "        for j in range(N_tot):\n",
    "            spin_spin_vec.append(wavefunction.expect(SpinSpin(i, j, hilbert, make_rotation=make_rotation, sublattice=sublattice)).mean)\n",
    "            # spin_spin_vec.append(SpinSpin(i, j, hilbert, make_rotation=make_rotation, sublattice=sublattice))\n",
    "    \n",
    "    # we cannot store operaotrs in jnp.array, but it is possible to store them in a numpy.array\n",
    "    return jnp.array(spin_spin_vec)\n",
    "\n",
    "\n",
    "def Single_Struc_Fac(k, differences, spin_spin_vec, Ntot):\n",
    "    \"\"\"\n",
    "    input:\n",
    "    k: (np.darray) the wave vector q\n",
    "    differences: (np.darray) the differences between the coordinates of the nodes\n",
    "    spin_spin_vec: (np.darray) the vector of the spin-spin correlation operators\n",
    "\n",
    "    return:\n",
    "    the structure factor S(q)\n",
    "    \"\"\"\n",
    "    phases = jnp.exp(1.0j * jnp.dot(differences, k))\n",
    "    return jnp.dot(phases, spin_spin_vec) / Ntot\n",
    "    \n",
    "\n",
    "\n",
    "def Momentum_Grid(arr):\n",
    "    # Create the meshgrid\n",
    "    X, Y = jnp.meshgrid(arr, arr, indexing=\"ij\")  # 'ij' ensures correct order\n",
    "\n",
    "    # Flatten and stack as (x, y) pairs\n",
    "    grid = jnp.column_stack((X.ravel(), Y.ravel()))\n",
    "    return grid\n",
    "\n",
    "\n",
    "# this is how you call vmap afterwards:\n",
    "# this is how you call vmap afterwards:\n",
    "# g = nk.graph.Hypercube(length=2, n_dim=2, pbc=True)\n",
    "# hi = nk.hilbert.Spin(s=0.5, N=g.n_nodes)\n",
    "# vs = nk.vqs.MCState(sa, model, n_samples=2**10)\n",
    "\n",
    "# ds = Create_Differences(g)\n",
    "# sss = Create_SpinSpin_Vec(vs,hi, g)\n",
    "# result= vmap(Single_Struc_Fac, in_axes=(0, None, None, None))(Momentum_Grid(jnp.linspace(-jnp.pi, jnp.pi, 100)), ds, sss, hi.size)"
   ]
  },
  {
   "cell_type": "markdown",
   "metadata": {},
   "source": [
    "We try to compute the Structure factor for an rbm quantum state on the 4x4 Triangular lattice:"
   ]
  },
  {
   "cell_type": "code",
   "execution_count": 13,
   "metadata": {},
   "outputs": [],
   "source": [
    "vs_rbm = nk.vqs.MCState(sampler = sa_HaEx5050, model = nk.models.RBM(alpha=4, param_dtype=complex), n_samples=2**12, n_discard_per_chain=16)"
   ]
  },
  {
   "cell_type": "code",
   "execution_count": 17,
   "metadata": {},
   "outputs": [],
   "source": [
    "with open('log_HaEx5050_rbm_alpha4.0.pickle', 'rb') as handle:\n",
    "    params = pickle.load(handle)\n",
    "\n",
    "vs_rbm.variables = params"
   ]
  },
  {
   "cell_type": "code",
   "execution_count": 18,
   "metadata": {},
   "outputs": [],
   "source": [
    "for _ in range(4):\n",
    "    vs_rbm.sample()\n",
    "    vs_rbm.reset()"
   ]
  },
  {
   "cell_type": "code",
   "execution_count": 20,
   "metadata": {},
   "outputs": [
    {
     "data": {
      "text/plain": [
       "-25.930+0.014j ± 0.026 [σ²=2.919, R̂=1.0038]"
      ]
     },
     "execution_count": 20,
     "metadata": {},
     "output_type": "execute_result"
    }
   ],
   "source": [
    "vs_rbm.expect(Ha16)"
   ]
  },
  {
   "cell_type": "code",
   "execution_count": 75,
   "metadata": {},
   "outputs": [],
   "source": [
    "k_grid = Momentum_Grid(jnp.linspace(-1., 1., 10) * 4 * jnp.pi / 3)\n",
    "diffs = Create_Differences(TriGraph)\n",
    "SS_Vec = Create_SpinSpin_Vec(vs_rbm, hi2d, TriGraph)"
   ]
  },
  {
   "cell_type": "code",
   "execution_count": 79,
   "metadata": {},
   "outputs": [
    {
     "data": {
      "text/plain": [
       "Array([[-4.1887902 , -4.1887902 ],\n",
       "       [-4.1887902 , -3.25794794],\n",
       "       [-4.1887902 , -2.32710567],\n",
       "       [-4.1887902 , -1.3962634 ],\n",
       "       [-4.1887902 , -0.46542113],\n",
       "       [-4.1887902 ,  0.46542113],\n",
       "       [-4.1887902 ,  1.3962634 ],\n",
       "       [-4.1887902 ,  2.32710567],\n",
       "       [-4.1887902 ,  3.25794794],\n",
       "       [-4.1887902 ,  4.1887902 ],\n",
       "       [-3.25794794, -4.1887902 ],\n",
       "       [-3.25794794, -3.25794794],\n",
       "       [-3.25794794, -2.32710567],\n",
       "       [-3.25794794, -1.3962634 ],\n",
       "       [-3.25794794, -0.46542113],\n",
       "       [-3.25794794,  0.46542113],\n",
       "       [-3.25794794,  1.3962634 ],\n",
       "       [-3.25794794,  2.32710567],\n",
       "       [-3.25794794,  3.25794794],\n",
       "       [-3.25794794,  4.1887902 ],\n",
       "       [-2.32710567, -4.1887902 ],\n",
       "       [-2.32710567, -3.25794794],\n",
       "       [-2.32710567, -2.32710567],\n",
       "       [-2.32710567, -1.3962634 ],\n",
       "       [-2.32710567, -0.46542113],\n",
       "       [-2.32710567,  0.46542113],\n",
       "       [-2.32710567,  1.3962634 ],\n",
       "       [-2.32710567,  2.32710567],\n",
       "       [-2.32710567,  3.25794794],\n",
       "       [-2.32710567,  4.1887902 ],\n",
       "       [-1.3962634 , -4.1887902 ],\n",
       "       [-1.3962634 , -3.25794794],\n",
       "       [-1.3962634 , -2.32710567],\n",
       "       [-1.3962634 , -1.3962634 ],\n",
       "       [-1.3962634 , -0.46542113],\n",
       "       [-1.3962634 ,  0.46542113],\n",
       "       [-1.3962634 ,  1.3962634 ],\n",
       "       [-1.3962634 ,  2.32710567],\n",
       "       [-1.3962634 ,  3.25794794],\n",
       "       [-1.3962634 ,  4.1887902 ],\n",
       "       [-0.46542113, -4.1887902 ],\n",
       "       [-0.46542113, -3.25794794],\n",
       "       [-0.46542113, -2.32710567],\n",
       "       [-0.46542113, -1.3962634 ],\n",
       "       [-0.46542113, -0.46542113],\n",
       "       [-0.46542113,  0.46542113],\n",
       "       [-0.46542113,  1.3962634 ],\n",
       "       [-0.46542113,  2.32710567],\n",
       "       [-0.46542113,  3.25794794],\n",
       "       [-0.46542113,  4.1887902 ],\n",
       "       [ 0.46542113, -4.1887902 ],\n",
       "       [ 0.46542113, -3.25794794],\n",
       "       [ 0.46542113, -2.32710567],\n",
       "       [ 0.46542113, -1.3962634 ],\n",
       "       [ 0.46542113, -0.46542113],\n",
       "       [ 0.46542113,  0.46542113],\n",
       "       [ 0.46542113,  1.3962634 ],\n",
       "       [ 0.46542113,  2.32710567],\n",
       "       [ 0.46542113,  3.25794794],\n",
       "       [ 0.46542113,  4.1887902 ],\n",
       "       [ 1.3962634 , -4.1887902 ],\n",
       "       [ 1.3962634 , -3.25794794],\n",
       "       [ 1.3962634 , -2.32710567],\n",
       "       [ 1.3962634 , -1.3962634 ],\n",
       "       [ 1.3962634 , -0.46542113],\n",
       "       [ 1.3962634 ,  0.46542113],\n",
       "       [ 1.3962634 ,  1.3962634 ],\n",
       "       [ 1.3962634 ,  2.32710567],\n",
       "       [ 1.3962634 ,  3.25794794],\n",
       "       [ 1.3962634 ,  4.1887902 ],\n",
       "       [ 2.32710567, -4.1887902 ],\n",
       "       [ 2.32710567, -3.25794794],\n",
       "       [ 2.32710567, -2.32710567],\n",
       "       [ 2.32710567, -1.3962634 ],\n",
       "       [ 2.32710567, -0.46542113],\n",
       "       [ 2.32710567,  0.46542113],\n",
       "       [ 2.32710567,  1.3962634 ],\n",
       "       [ 2.32710567,  2.32710567],\n",
       "       [ 2.32710567,  3.25794794],\n",
       "       [ 2.32710567,  4.1887902 ],\n",
       "       [ 3.25794794, -4.1887902 ],\n",
       "       [ 3.25794794, -3.25794794],\n",
       "       [ 3.25794794, -2.32710567],\n",
       "       [ 3.25794794, -1.3962634 ],\n",
       "       [ 3.25794794, -0.46542113],\n",
       "       [ 3.25794794,  0.46542113],\n",
       "       [ 3.25794794,  1.3962634 ],\n",
       "       [ 3.25794794,  2.32710567],\n",
       "       [ 3.25794794,  3.25794794],\n",
       "       [ 3.25794794,  4.1887902 ],\n",
       "       [ 4.1887902 , -4.1887902 ],\n",
       "       [ 4.1887902 , -3.25794794],\n",
       "       [ 4.1887902 , -2.32710567],\n",
       "       [ 4.1887902 , -1.3962634 ],\n",
       "       [ 4.1887902 , -0.46542113],\n",
       "       [ 4.1887902 ,  0.46542113],\n",
       "       [ 4.1887902 ,  1.3962634 ],\n",
       "       [ 4.1887902 ,  2.32710567],\n",
       "       [ 4.1887902 ,  3.25794794],\n",
       "       [ 4.1887902 ,  4.1887902 ]], dtype=float64)"
      ]
     },
     "execution_count": 79,
     "metadata": {},
     "output_type": "execute_result"
    }
   ],
   "source": [
    "k_grid"
   ]
  },
  {
   "cell_type": "code",
   "execution_count": 76,
   "metadata": {},
   "outputs": [],
   "source": [
    "Sq_rbm = jax.vmap(Single_Struc_Fac, in_axes=(0, None, None, None))(k_grid, diffs, SS_Vec, hi2d.size)"
   ]
  },
  {
   "cell_type": "code",
   "execution_count": 77,
   "metadata": {},
   "outputs": [
    {
     "data": {
      "text/plain": [
       "(100,)"
      ]
     },
     "execution_count": 77,
     "metadata": {},
     "output_type": "execute_result"
    }
   ],
   "source": [
    "Sq_rbm.shape"
   ]
  },
  {
   "cell_type": "code",
   "execution_count": null,
   "metadata": {},
   "outputs": [],
   "source": [
    "ks = jnp.linspace(-1., 1., 10) * 4 * jnp.pi / 3"
   ]
  },
  {
   "cell_type": "code",
   "execution_count": null,
   "metadata": {},
   "outputs": [
    {
     "data": {
      "text/plain": [
       "<matplotlib.colorbar.Colorbar at 0x7fc83c7f5ed0>"
      ]
     },
     "execution_count": 84,
     "metadata": {},
     "output_type": "execute_result"
    },
    {
     "data": {
      "image/png": "[encoded data removed]",
      "text/plain": [
       "<Figure size 640x480 with 2 Axes>"
      ]
     },
     "metadata": {},
     "output_type": "display_data"
    }
   ],
   "source": [
    "ticks = jnp.linspace(-1., 1., 10) * 4 * jnp.pi / 3\n",
    "plt.imshow(Sq_rbm.reshape((10, 10)).real.T, cmap='viridis')\n",
    "\n",
    "# plt.imshow(Sq_rbm.reshape((10, 10)).real, extent = [ks.min(), ks.max(), ks.min(), ks.max()], cmap='viridis')\n",
    "# plt.xticks(ticks=jnp.linspace(0, 99, 5), labels=[f\"{tick:.2f}\" for tick in jnp.linspace(-1., 1., 5) * 4 * jnp.pi / 3])\n",
    "# plt.yticks(ticks=jnp.linspace(0, 99, 5), labels=[f\"{tick:.2f}\" for tick in jnp.linspace(-1., 1., 5) * 4 * jnp.pi / 3])\n",
    "# plt.plot(np.pi, np.pi/2, 'bo')\n",
    "plt.colorbar()"
   ]
  },
  {
   "cell_type": "code",
   "execution_count": 82,
   "metadata": {},
   "outputs": [
    {
     "data": {
      "text/plain": [
       "<matplotlib.image.AxesImage at 0x7fc85c1ae490>"
      ]
     },
     "execution_count": 82,
     "metadata": {},
     "output_type": "execute_result"
    },
    {
     "data": {
      "image/png": "[encoded data removed]",
      "text/plain": [
       "<Figure size 640x480 with 1 Axes>"
      ]
     },
     "metadata": {},
     "output_type": "display_data"
    }
   ],
   "source": [
    "plt.imshow(np.arange(0, 100).reshape((10, 10)))"
   ]
  },
  {
   "cell_type": "code",
   "execution_count": 65,
   "metadata": {},
   "outputs": [
    {
     "data": {
      "text/plain": [
       "<matplotlib.contour.QuadContourSet at 0x7fc87c1c5010>"
      ]
     },
     "execution_count": 65,
     "metadata": {},
     "output_type": "execute_result"
    },
    {
     "data": {
      "image/png": "[encoded data removed]",
      "text/plain": [
       "<Figure size 640x480 with 1 Axes>"
      ]
     },
     "metadata": {},
     "output_type": "display_data"
    }
   ],
   "source": [
    "xs, ys = jnp.meshgrid(jnp.linspace(-1., 1., 200) * 4 * jnp.pi / 3, jnp.linspace(-1., 1., 200) * 4 * jnp.pi / 3)\n",
    "plt.plot(np.pi/2, np.pi, 'bo')\n",
    "\n",
    "plt.contourf(xs, ys, Sq_rbm.reshape((200, 200)).real, cmap='viridis')"
   ]
  },
  {
   "cell_type": "code",
   "execution_count": 40,
   "metadata": {},
   "outputs": [
    {
     "data": {
      "text/plain": [
       "Array([-3.14159265, -3.07812614, -3.01465962, -2.9511931 , -2.88772658,\n",
       "       -2.82426006, -2.76079354, -2.69732703, -2.63386051, -2.57039399,\n",
       "       -2.50692747, -2.44346095, -2.37999443, -2.31652792, -2.2530614 ,\n",
       "       -2.18959488, -2.12612836, -2.06266184, -1.99919533, -1.93572881,\n",
       "       -1.87226229, -1.80879577, -1.74532925, -1.68186273, -1.61839622,\n",
       "       -1.5549297 , -1.49146318, -1.42799666, -1.36453014, -1.30106362,\n",
       "       -1.23759711, -1.17413059, -1.11066407, -1.04719755, -0.98373103,\n",
       "       -0.92026451, -0.856798  , -0.79333148, -0.72986496, -0.66639844,\n",
       "       -0.60293192, -0.53946541, -0.47599889, -0.41253237, -0.34906585,\n",
       "       -0.28559933, -0.22213281, -0.1586663 , -0.09519978, -0.03173326,\n",
       "        0.03173326,  0.09519978,  0.1586663 ,  0.22213281,  0.28559933,\n",
       "        0.34906585,  0.41253237,  0.47599889,  0.53946541,  0.60293192,\n",
       "        0.66639844,  0.72986496,  0.79333148,  0.856798  ,  0.92026451,\n",
       "        0.98373103,  1.04719755,  1.11066407,  1.17413059,  1.23759711,\n",
       "        1.30106362,  1.36453014,  1.42799666,  1.49146318,  1.5549297 ,\n",
       "        1.61839622,  1.68186273,  1.74532925,  1.80879577,  1.87226229,\n",
       "        1.93572881,  1.99919533,  2.06266184,  2.12612836,  2.18959488,\n",
       "        2.2530614 ,  2.31652792,  2.37999443,  2.44346095,  2.50692747,\n",
       "        2.57039399,  2.63386051,  2.69732703,  2.76079354,  2.82426006,\n",
       "        2.88772658,  2.9511931 ,  3.01465962,  3.07812614,  3.14159265],      dtype=float64)"
      ]
     },
     "execution_count": 40,
     "metadata": {},
     "output_type": "execute_result"
    }
   ],
   "source": [
    "reshaped_grid[:,0,0]"
   ]
  },
  {
   "cell_type": "code",
   "execution_count": null,
   "metadata": {},
   "outputs": [],
   "source": []
  },
  {
   "cell_type": "code",
   "execution_count": null,
   "metadata": {},
   "outputs": [],
   "source": []
  },
  {
   "cell_type": "code",
   "execution_count": null,
   "metadata": {},
   "outputs": [],
   "source": []
  }
 ],
 "metadata": {
  "kernelspec": {
   "display_name": "venv",
   "language": "python",
   "name": "python3"
  },
  "language_info": {
   "codemirror_mode": {
    "name": "ipython",
    "version": 3
   },
   "file_extension": ".py",
   "mimetype": "text/x-python",
   "name": "python",
   "nbconvert_exporter": "python",
   "pygments_lexer": "ipython3",
   "version": "3.11.2"
  }
 },
 "nbformat": 4,
 "nbformat_minor": 2
}
