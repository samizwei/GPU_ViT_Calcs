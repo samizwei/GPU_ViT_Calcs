{
 "cells": [
  {
   "cell_type": "code",
   "execution_count": 1,
   "metadata": {},
   "outputs": [],
   "source": [
    "import os\n",
    "os.environ[\"CUDA_VISIBLE_DEVICES\"] = \"0\""
   ]
  },
  {
   "cell_type": "code",
   "execution_count": 2,
   "metadata": {},
   "outputs": [],
   "source": [
    "import netket as nk\n",
    "from netket.utils import HashableArray\n",
    "import jax\n",
    "import jax.numpy as jnp\n",
    "import numpy as np\n",
    "\n",
    "import matplotlib.pyplot as plt\n",
    "\n",
    "import pickle\n",
    "from netket.callbacks import InvalidLossStopping\n",
    "# import the ViT model\n",
    "import sys\n",
    "sys.path.append('/scratch/samiz/GPU_ViT_Calcs/models')\n",
    "sys.path.append('/scratch/samiz/GPU_ViT_Calcs/Logger_Pickle')\n",
    "\n",
    "from json_log import PickledJsonLog\n",
    "# from ViT_2d_Vers2_Checkpoint import *\n",
    "from vmc_2spins_sampler import *\n",
    "from Afm_Model_functions import *\n",
    "# from ViTmodel_2d_Vers2 import * \n",
    "import ViT_2d_Vers3_XavierUniform as vitX\n",
    "\n",
    "from convergence_stopping import LateConvergenceStopping\n",
    "# import the sampler choosing between minSR and regular SR\n",
    "from optax.schedules import cosine_decay_schedule, linear_schedule\n",
    "\n"
   ]
  },
  {
   "cell_type": "markdown",
   "metadata": {},
   "source": [
    "We start by "
   ]
  },
  {
   "cell_type": "markdown",
   "metadata": {},
   "source": [
    "\n",
    "\n",
    "good params mean if we sample some spin configurations we want to get only states with low magnetizatioin!\n",
    "\n",
    "finding good samples for 8x8 d24 nl1 and patch_xy = 12"
   ]
  },
  {
   "cell_type": "code",
   "execution_count": 3,
   "metadata": {},
   "outputs": [],
   "source": [
    "L = 10\n",
    "\n",
    "# hi2d = nk.hilbert.Spin(s=0.5, N=L**2, constraint=Mtot_Parity_Constraint(parity=0))\n",
    "TriGraph = nk.graph.Triangular(extent = [L,L], pbc = True)\n",
    "\n",
    "\n",
    "pHa = {\n",
    "    'L': L,\n",
    "    'J1' : 1.0,\n",
    "    'J2' : 0.4375,\n",
    "    'Dxy': 0.75,\n",
    "    'd' : 0.1,\n",
    "    'dprime' : 0.5,\n",
    "    'sublattice': [0,1,2,3,8,9,10,11]\n",
    "}\n",
    "\n",
    "Ha16, hi2d = H_afmJ123(L=pHa['L'], J1=pHa['J1'], J2=pHa['J2'], J3=pHa['J2'], Dxy=pHa['Dxy'], d=pHa['d'], dprime=pHa['dprime'], return_space=True,\n",
    "                        parity=0., sublattice = None, make_rotation=False, exchange_XY=False)\n",
    "\n",
    "XX = Exchange_OP(hi2d, TriGraph).to_jax_operator()\n",
    "\n",
    "sa_Ha = nk.sampler.MetropolisHamiltonian(hilbert=hi2d, hamiltonian=XX, n_chains=32, sweep_size = 3* hi2d.size)\n",
    "# sa_2flip = nk.sampler.MetropolisSampler(hilbert=hi2d, rule=TwoLocalRule(), n_chains=32, sweep_size=3*hi2d.size)\n",
    "sa_ex = nk.sampler.MetropolisExchange(hilbert=hi2d, graph=TriGraph, n_chains=32, sweep_size=3*hi2d.size)\n",
    "\n",
    "\n",
    "rules5050 = nk.sampler.rules.MultipleRules(rules = [sa_Ha.rule, sa_ex.rule], probabilities = [0.5, 0.5])\n",
    "rules3070 = nk.sampler.rules.MultipleRules(rules = [sa_Ha.rule, sa_ex.rule], probabilities = [0.3, 0.7])\n",
    "rules7030 = nk.sampler.rules.MultipleRules(rules = [sa_Ha.rule, sa_ex.rule], probabilities = [0.7, 0.3])\n",
    "\n",
    "sa_HaEx5050 = nk.sampler.MetropolisSampler(hi2d, rules5050, n_chains=32, sweep_size=3*hi2d.size)\n",
    "sa_HaEx3070 = nk.sampler.MetropolisSampler(hi2d, rules3070, n_chains=32, sweep_size=3*hi2d.size)\n",
    "sa_HaEx7030 = nk.sampler.MetropolisSampler(hi2d, rules7030, n_chains=32, sweep_size=3*hi2d.size)\n"
   ]
  },
  {
   "cell_type": "code",
   "execution_count": 4,
   "metadata": {},
   "outputs": [],
   "source": [
    "pVit = {\n",
    "    'd': 24,\n",
    "    'h': 6,\n",
    "    'nl': 1,\n",
    "    'Dtype': jnp.float64,\n",
    "    'hidden_density': 1,\n",
    "    'L': L,\n",
    "    'Cx': 1,\n",
    "    'Cy': 2,\n",
    "    'patch_arr': HashableArray(np.arange(0, L**2).reshape((-1,2))),\n",
    "}\n",
    "\n",
    "m_Vit = vitX.ViT_2d(patch_arr=HashableArray(pVit['patch_arr']), embed_dim=pVit['d'], num_heads=pVit['h'], nl=pVit['nl'],\n",
    "                                Dtype=pVit['Dtype'], L=pVit['L'], Cx=pVit['Cx'], Cy=pVit['Cy'], hidden_density=pVit['hidden_density'])\n",
    "\n"
   ]
  },
  {
   "cell_type": "code",
   "execution_count": 6,
   "metadata": {},
   "outputs": [],
   "source": [
    "vs_vit = nk.vqs.MCState(sampler=sa_HaEx5050, model = m_Vit, n_samples=2**12, chunk_size=2**12, n_discard_per_chain=16)"
   ]
  },
  {
   "cell_type": "code",
   "execution_count": 59,
   "metadata": {},
   "outputs": [],
   "source": [
    "start_configs = hi2d.random_state(jax.random.PRNGKey(0), 2**10)\n",
    "p_init = m_Vit.init(jax.random.PRNGKey(23), start_configs)\n",
    "vs_vit.variables = p_init"
   ]
  },
  {
   "cell_type": "code",
   "execution_count": 60,
   "metadata": {},
   "outputs": [
    {
     "data": {
      "text/plain": [
       "[<matplotlib.lines.Line2D at 0x7f766c1fd050>]"
      ]
     },
     "execution_count": 60,
     "metadata": {},
     "output_type": "execute_result"
    },
    {
     "data": {
      "image/png": "[encoded data removed]",
      "text/plain": [
       "<Figure size 640x480 with 1 Axes>"
      ]
     },
     "metadata": {},
     "output_type": "display_data"
    }
   ],
   "source": [
    "x,y = jnp.unique(jnp.sum(vs_vit.sample().reshape(-1, L**2), axis=-1)/2, return_counts=True)\n",
    "\n",
    "plt.plot(x,y, '.')"
   ]
  },
  {
   "cell_type": "code",
   "execution_count": 61,
   "metadata": {},
   "outputs": [],
   "source": [
    "with open('init_params5050.pickle', 'wb') as f:\n",
    "    pickle.dump(p_init, f)"
   ]
  },
  {
   "cell_type": "code",
   "execution_count": null,
   "metadata": {},
   "outputs": [],
   "source": []
  },
  {
   "cell_type": "code",
   "execution_count": 5,
   "metadata": {},
   "outputs": [
    {
     "name": "stderr",
     "output_type": "stream",
     "text": [
      "/scratch/samiz/GPU_ViT_Calcs/venv/lib/python3.11/site-packages/netket/hilbert/random/homogeneous.py:123: UnoptimisedCustomConstraintRandomStateMethodWarning: \n",
      "Defaulting to a slow, possibly infinitely-looping method to generate random state of\n",
      "the current Hilbert space with a custom constraint. Consider implementing a\n",
      "custom `random_state` method for your constraint if this method takes a long time to\n",
      "generate a random state.\n",
      "\n",
      "================================================================\n",
      "You can silence this warning by setting the environment variable\n",
      "``NETKET_RANDOM_STATE_FALLBACK_WARNING=0``\n",
      "or by setting ``nk.config.netket_random_state_fallback_warning = False``\n",
      "in your code.\n",
      "================================================================\n",
      "\n",
      "To generate a custom random_state dispatched method, you should use multiple dispatch\n",
      "following the following syntax:\n",
      "\n",
      ">>> import netket as nk\n",
      ">>> from netket.utils import dispatch\n",
      ">>>\n",
      ">>> @dispatch.dispatch\n",
      ">>> def random_state(hilb: netket.hilbert.spin.Spin,\n",
      "                    constraint: vmc_2spins_sampler.Mtot_Parity_Constraint,\n",
      "                    key,\n",
      "                    batches: int,\n",
      "                    *,\n",
      "                    dtype=None):\n",
      ">>>    # your custom implementation here\n",
      ">>>    # You should return a batch of `batches` random states, with the given dtype.\n",
      ">>>    # return jax.Array with shape (batches, hilb.size) and dtype dtype.\n",
      "\n",
      "\n",
      "\n",
      "-------------------------------------------------------\n",
      "For more detailed informations, visit the following link:\n",
      "\t https://netket.readthedocs.io/en/latest/api/_generated/errors/netket.errors.UnoptimisedCustomConstraintRandomStateMethodWarning.html\n",
      "or the list of all common errors and warnings at\n",
      "\t https://netket.readthedocs.io/en/latest/api/errors.html\n",
      "-------------------------------------------------------\n",
      "\n",
      "  warnings.warn(\n",
      "/scratch/samiz/GPU_ViT_Calcs/venv/lib/python3.11/site-packages/netket/hilbert/random/homogeneous.py:123: UnoptimisedCustomConstraintRandomStateMethodWarning: \n",
      "Defaulting to a slow, possibly infinitely-looping method to generate random state of\n",
      "the current Hilbert space with a custom constraint. Consider implementing a\n",
      "custom `random_state` method for your constraint if this method takes a long time to\n",
      "generate a random state.\n",
      "\n",
      "================================================================\n",
      "You can silence this warning by setting the environment variable\n",
      "``NETKET_RANDOM_STATE_FALLBACK_WARNING=0``\n",
      "or by setting ``nk.config.netket_random_state_fallback_warning = False``\n",
      "in your code.\n",
      "================================================================\n",
      "\n",
      "To generate a custom random_state dispatched method, you should use multiple dispatch\n",
      "following the following syntax:\n",
      "\n",
      ">>> import netket as nk\n",
      ">>> from netket.utils import dispatch\n",
      ">>>\n",
      ">>> @dispatch.dispatch\n",
      ">>> def random_state(hilb: netket.hilbert.spin.Spin,\n",
      "                    constraint: vmc_2spins_sampler.Mtot_Parity_Constraint,\n",
      "                    key,\n",
      "                    batches: int,\n",
      "                    *,\n",
      "                    dtype=None):\n",
      ">>>    # your custom implementation here\n",
      ">>>    # You should return a batch of `batches` random states, with the given dtype.\n",
      ">>>    # return jax.Array with shape (batches, hilb.size) and dtype dtype.\n",
      "\n",
      "\n",
      "\n",
      "-------------------------------------------------------\n",
      "For more detailed informations, visit the following link:\n",
      "\t https://netket.readthedocs.io/en/latest/api/_generated/errors/netket.errors.UnoptimisedCustomConstraintRandomStateMethodWarning.html\n",
      "or the list of all common errors and warnings at\n",
      "\t https://netket.readthedocs.io/en/latest/api/errors.html\n",
      "-------------------------------------------------------\n",
      "\n",
      "  warnings.warn(\n"
     ]
    }
   ],
   "source": [
    "vs_vit = nk.vqs.MCState(sampler=sa_HaEx7030, model = m_Vit, n_samples=2**12, chunk_size=2**12, n_discard_per_chain=16)"
   ]
  },
  {
   "cell_type": "code",
   "execution_count": 6,
   "metadata": {},
   "outputs": [
    {
     "name": "stderr",
     "output_type": "stream",
     "text": [
      "/scratch/samiz/GPU_ViT_Calcs/venv/lib/python3.11/site-packages/netket/hilbert/random/homogeneous.py:123: UnoptimisedCustomConstraintRandomStateMethodWarning: \n",
      "Defaulting to a slow, possibly infinitely-looping method to generate random state of\n",
      "the current Hilbert space with a custom constraint. Consider implementing a\n",
      "custom `random_state` method for your constraint if this method takes a long time to\n",
      "generate a random state.\n",
      "\n",
      "================================================================\n",
      "You can silence this warning by setting the environment variable\n",
      "``NETKET_RANDOM_STATE_FALLBACK_WARNING=0``\n",
      "or by setting ``nk.config.netket_random_state_fallback_warning = False``\n",
      "in your code.\n",
      "================================================================\n",
      "\n",
      "To generate a custom random_state dispatched method, you should use multiple dispatch\n",
      "following the following syntax:\n",
      "\n",
      ">>> import netket as nk\n",
      ">>> from netket.utils import dispatch\n",
      ">>>\n",
      ">>> @dispatch.dispatch\n",
      ">>> def random_state(hilb: netket.hilbert.spin.Spin,\n",
      "                    constraint: vmc_2spins_sampler.Mtot_Parity_Constraint,\n",
      "                    key,\n",
      "                    batches: int,\n",
      "                    *,\n",
      "                    dtype=None):\n",
      ">>>    # your custom implementation here\n",
      ">>>    # You should return a batch of `batches` random states, with the given dtype.\n",
      ">>>    # return jax.Array with shape (batches, hilb.size) and dtype dtype.\n",
      "\n",
      "\n",
      "\n",
      "-------------------------------------------------------\n",
      "For more detailed informations, visit the following link:\n",
      "\t https://netket.readthedocs.io/en/latest/api/_generated/errors/netket.errors.UnoptimisedCustomConstraintRandomStateMethodWarning.html\n",
      "or the list of all common errors and warnings at\n",
      "\t https://netket.readthedocs.io/en/latest/api/errors.html\n",
      "-------------------------------------------------------\n",
      "\n",
      "  warnings.warn(\n"
     ]
    }
   ],
   "source": [
    "start_configs = hi2d.random_state(jax.random.PRNGKey(0), 2**10)\n",
    "p_init = m_Vit.init(jax.random.PRNGKey(23), start_configs)   # 0 works ok-ish\n",
    "vs_vit.variables = p_init"
   ]
  },
  {
   "cell_type": "code",
   "execution_count": 7,
   "metadata": {},
   "outputs": [
    {
     "data": {
      "text/plain": [
       "[<matplotlib.lines.Line2D at 0x7f1ee01f2910>]"
      ]
     },
     "execution_count": 7,
     "metadata": {},
     "output_type": "execute_result"
    },
    {
     "data": {
      "image/png": "[encoded data removed]",
      "text/plain": [
       "<Figure size 640x480 with 1 Axes>"
      ]
     },
     "metadata": {},
     "output_type": "display_data"
    }
   ],
   "source": [
    "x,y = jnp.unique(jnp.sum(vs_vit.sample().reshape(-1, L**2), axis=-1)/2, return_counts=True)\n",
    "\n",
    "plt.plot(x,y, '.')"
   ]
  },
  {
   "cell_type": "code",
   "execution_count": 8,
   "metadata": {},
   "outputs": [],
   "source": [
    "with open('init_params7030.pickle', 'wb') as f:\n",
    "    pickle.dump(p_init, f)"
   ]
  },
  {
   "cell_type": "code",
   "execution_count": 87,
   "metadata": {},
   "outputs": [],
   "source": [
    "with open('good_init_params5050.pickle', 'rb') as f:\n",
    "    p_init_test = pickle.load(f)"
   ]
  },
  {
   "cell_type": "code",
   "execution_count": 88,
   "metadata": {},
   "outputs": [],
   "source": [
    "vs_vit.variables = p_init_test"
   ]
  },
  {
   "cell_type": "code",
   "execution_count": null,
   "metadata": {},
   "outputs": [],
   "source": []
  },
  {
   "cell_type": "code",
   "execution_count": null,
   "metadata": {},
   "outputs": [],
   "source": [
    "start_configs = hi2d.random_state(jax.random.PRNGKey(0), 2**10)\n",
    "p_init = m_Vit.init(jax.random.PRNGKey(0), start_configs)   # 0 works ok-ish"
   ]
  },
  {
   "cell_type": "code",
   "execution_count": null,
   "metadata": {},
   "outputs": [],
   "source": [
    "vs_vit = nk.vqs.MCState(sampler=sa_HaEx3070, model = m_Vit, n_samples=2**12, chunk_size=2**12, n_discard_per_chain=16)\n",
    "vs_vit.variables = p_init"
   ]
  },
  {
   "cell_type": "code",
   "execution_count": null,
   "metadata": {},
   "outputs": [],
   "source": [
    "vs_vit.variables = p_init\n",
    "\n",
    "x,y = jnp.unique(jnp.sum(vs_vit.samples.reshape(-1, L**2), axis=-1)/2, return_counts=True)\n",
    "\n",
    "plt.plot(x,y, '.')"
   ]
  },
  {
   "cell_type": "code",
   "execution_count": null,
   "metadata": {},
   "outputs": [],
   "source": [
    "with open('init_params3070.pickle', 'wb') as f:\n",
    "    pickle.dump(p_init, f)"
   ]
  }
 ],
 "metadata": {
  "kernelspec": {
   "display_name": "venv",
   "language": "python",
   "name": "python3"
  },
  "language_info": {
   "codemirror_mode": {
    "name": "ipython",
    "version": 3
   },
   "file_extension": ".py",
   "mimetype": "text/x-python",
   "name": "python",
   "nbconvert_exporter": "python",
   "pygments_lexer": "ipython3",
   "version": "3.11.2"
  }
 },
 "nbformat": 4,
 "nbformat_minor": 2
}
