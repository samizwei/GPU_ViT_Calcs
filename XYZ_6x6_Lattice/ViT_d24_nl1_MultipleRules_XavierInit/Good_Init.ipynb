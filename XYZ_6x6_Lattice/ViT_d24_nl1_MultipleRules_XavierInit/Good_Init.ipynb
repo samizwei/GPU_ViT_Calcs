{
 "cells": [
  {
   "cell_type": "code",
   "execution_count": 41,
   "metadata": {},
   "outputs": [],
   "source": [
    "import netket as nk\n",
    "from netket.utils import HashableArray\n",
    "import jax\n",
    "import jax.numpy as jnp\n",
    "import numpy as np\n",
    "\n",
    "import matplotlib.pyplot as plt\n",
    "\n",
    "import pickle\n",
    "from netket.callbacks import InvalidLossStopping\n",
    "# import the ViT model\n",
    "import sys\n",
    "sys.path.append('/scratch/samiz/GPU_ViT_Calcs/models')\n",
    "sys.path.append('/scratch/samiz/GPU_ViT_Calcs/Logger_Pickle')\n",
    "\n",
    "from json_log import PickledJsonLog\n",
    "# from ViT_2d_Vers2_Checkpoint import *\n",
    "from vmc_2spins_sampler import *\n",
    "from Afm_Model_functions import *\n",
    "# from ViTmodel_2d_Vers2 import * \n",
    "import ViT_2d_Vers3_XavierUniform as vitX\n",
    "\n",
    "from convergence_stopping import LateConvergenceStopping\n",
    "# import the sampler choosing between minSR and regular SR\n",
    "from optax.schedules import cosine_decay_schedule, linear_schedule\n",
    "\n"
   ]
  },
  {
   "cell_type": "markdown",
   "metadata": {},
   "source": [
    "# In here we find a good set of paramters in order to start then the initialization of the Vision transformer\n",
    "\n",
    "\n",
    "good params mean if we sample some spin configurations we want to get only states with low magnetizatioin!"
   ]
  },
  {
   "cell_type": "code",
   "execution_count": 42,
   "metadata": {},
   "outputs": [],
   "source": [
    "L = 6\n",
    "\n",
    "# hi2d = nk.hilbert.Spin(s=0.5, N=L**2, constraint=Mtot_Parity_Constraint(parity=0))\n",
    "TriGraph = nk.graph.Triangular(extent = [L,L], pbc = True)\n",
    "\n",
    "\n",
    "pHa = {\n",
    "    'L': L,\n",
    "    'J1' : 1.0,\n",
    "    'J2' : 0.4375,\n",
    "    'Dxy': 0.75,\n",
    "    'd' : 0.1,\n",
    "    'dprime' : 0.5,\n",
    "    'sublattice': [0,1,2,3,8,9,10,11]\n",
    "}\n",
    "\n",
    "Ha16, hi2d = H_afmJ123(L=pHa['L'], J1=pHa['J1'], J2=pHa['J2'], J3=pHa['J2'], Dxy=pHa['Dxy'], d=pHa['d'], dprime=pHa['dprime'], return_space=True,\n",
    "                        parity=0., sublattice = None, make_rotation=False, exchange_XY=False)\n",
    "\n",
    "XX = Exchange_OP(hi2d, TriGraph).to_jax_operator()\n",
    "\n",
    "sa_Ha = nk.sampler.MetropolisHamiltonian(hilbert=hi2d, hamiltonian=XX, n_chains=32, sweep_size = 3* hi2d.size)\n",
    "# sa_2flip = nk.sampler.MetropolisSampler(hilbert=hi2d, rule=TwoLocalRule(), n_chains=32, sweep_size=3*hi2d.size)\n",
    "sa_ex = nk.sampler.MetropolisExchange(hilbert=hi2d, graph=TriGraph, n_chains=32, sweep_size=3*hi2d.size)\n",
    "\n",
    "\n",
    "rules5050 = nk.sampler.rules.MultipleRules(rules = [sa_Ha.rule, sa_ex.rule], probabilities = [0.5, 0.5])\n",
    "rules3070 = nk.sampler.rules.MultipleRules(rules = [sa_Ha.rule, sa_ex.rule], probabilities = [0.3, 0.7])\n",
    "rules7030 = nk.sampler.rules.MultipleRules(rules = [sa_Ha.rule, sa_ex.rule], probabilities = [0.7, 0.3])\n",
    "\n",
    "sa_HaEx5050 = nk.sampler.MetropolisSampler(hi2d, rules5050, n_chains=32, sweep_size=3*hi2d.size)\n",
    "sa_HaEx3070 = nk.sampler.MetropolisSampler(hi2d, rules3070, n_chains=32, sweep_size=3*hi2d.size)\n",
    "sa_HaEx7030 = nk.sampler.MetropolisSampler(hi2d, rules7030, n_chains=32, sweep_size=3*hi2d.size)\n"
   ]
  },
  {
   "cell_type": "code",
   "execution_count": 43,
   "metadata": {},
   "outputs": [],
   "source": [
    "pVit = {\n",
    "    'd': 24,\n",
    "    'h': 6,\n",
    "    'nl': 1,\n",
    "    'Dtype': jnp.float64,\n",
    "    'hidden_density': 1,\n",
    "    'L': L,\n",
    "    'Cx': 1,\n",
    "    'Cy': 2,\n",
    "    'patch_arr': HashableArray(np.arange(0, L**2).reshape((-1,2))),\n",
    "}\n",
    "\n",
    "m_Vit = vitX.ViT_2d(patch_arr=HashableArray(pVit['patch_arr']), embed_dim=pVit['d'], num_heads=pVit['h'], nl=pVit['nl'],\n",
    "                                Dtype=pVit['Dtype'], L=pVit['L'], Cx=pVit['Cx'], Cy=pVit['Cy'], hidden_density=pVit['hidden_density'])\n",
    "\n",
    "start_configs = hi2d.random_state(jax.random.PRNGKey(6), 2**10)"
   ]
  },
  {
   "cell_type": "code",
   "execution_count": 44,
   "metadata": {},
   "outputs": [],
   "source": [
    "p_init = m_Vit.init(jax.random.PRNGKey(0), start_configs)"
   ]
  },
  {
   "cell_type": "code",
   "execution_count": 45,
   "metadata": {},
   "outputs": [],
   "source": [
    "vs_vit = nk.vqs.MCState(sampler=sa_HaEx5050, model = m_Vit, n_samples=2**12, chunk_size=2**12, n_discard_per_chain=16)"
   ]
  },
  {
   "cell_type": "code",
   "execution_count": 46,
   "metadata": {},
   "outputs": [
    {
     "data": {
      "text/plain": [
       "[<matplotlib.lines.Line2D at 0x7fb46851c590>]"
      ]
     },
     "execution_count": 46,
     "metadata": {},
     "output_type": "execute_result"
    },
    {
     "data": {
      "image/png": "[encoded data removed]",
      "text/plain": [
       "<Figure size 640x480 with 1 Axes>"
      ]
     },
     "metadata": {},
     "output_type": "display_data"
    }
   ],
   "source": [
    "vs_vit.variables = p_init\n",
    "\n",
    "x,y = jnp.unique(jnp.sum(vs_vit.samples.reshape(-1, L**2), axis=-1)/2, return_counts=True)\n",
    "\n",
    "plt.plot(x,y, '.')"
   ]
  },
  {
   "cell_type": "code",
   "execution_count": 47,
   "metadata": {},
   "outputs": [],
   "source": [
    "with open('good_init_params5050.pickle', 'wb') as f:\n",
    "    pickle.dump(p_init, f)"
   ]
  },
  {
   "cell_type": "code",
   "execution_count": null,
   "metadata": {},
   "outputs": [],
   "source": []
  },
  {
   "cell_type": "code",
   "execution_count": null,
   "metadata": {},
   "outputs": [],
   "source": []
  },
  {
   "cell_type": "code",
   "execution_count": 77,
   "metadata": {},
   "outputs": [],
   "source": [
    "start_configs = hi2d.random_state(jax.random.PRNGKey(0), 2**10)\n",
    "p_init = m_Vit.init(jax.random.PRNGKey(0), start_configs)   # 0 works ok-ish"
   ]
  },
  {
   "cell_type": "code",
   "execution_count": 78,
   "metadata": {},
   "outputs": [],
   "source": [
    "vs_vit = nk.vqs.MCState(sampler=sa_HaEx7030, model = m_Vit, n_samples=2**12, chunk_size=2**12, n_discard_per_chain=16)\n",
    "vs_vit.variables = p_init"
   ]
  },
  {
   "cell_type": "code",
   "execution_count": 79,
   "metadata": {},
   "outputs": [
    {
     "data": {
      "text/plain": [
       "[<matplotlib.lines.Line2D at 0x7fb440511010>]"
      ]
     },
     "execution_count": 79,
     "metadata": {},
     "output_type": "execute_result"
    },
    {
     "data": {
      "image/png": "[encoded data removed]",
      "text/plain": [
       "<Figure size 640x480 with 1 Axes>"
      ]
     },
     "metadata": {},
     "output_type": "display_data"
    }
   ],
   "source": [
    "vs_vit.variables = p_init\n",
    "\n",
    "x,y = jnp.unique(jnp.sum(vs_vit.samples.reshape(-1, L**2), axis=-1)/2, return_counts=True)\n",
    "\n",
    "plt.plot(x,y, '.')"
   ]
  },
  {
   "cell_type": "code",
   "execution_count": 80,
   "metadata": {},
   "outputs": [],
   "source": [
    "with open('good_init_params7030.pickle', 'wb') as f:\n",
    "    pickle.dump(p_init, f)"
   ]
  },
  {
   "cell_type": "code",
   "execution_count": 87,
   "metadata": {},
   "outputs": [],
   "source": [
    "with open('good_init_params5050.pickle', 'rb') as f:\n",
    "    p_init_test = pickle.load(f)"
   ]
  },
  {
   "cell_type": "code",
   "execution_count": 88,
   "metadata": {},
   "outputs": [],
   "source": [
    "vs_vit.variables = p_init_test"
   ]
  }
 ],
 "metadata": {
  "kernelspec": {
   "display_name": "venv",
   "language": "python",
   "name": "python3"
  },
  "language_info": {
   "codemirror_mode": {
    "name": "ipython",
    "version": 3
   },
   "file_extension": ".py",
   "mimetype": "text/x-python",
   "name": "python",
   "nbconvert_exporter": "python",
   "pygments_lexer": "ipython3",
   "version": "3.11.2"
  }
 },
 "nbformat": 4,
 "nbformat_minor": 2
}
